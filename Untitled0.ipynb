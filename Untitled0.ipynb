{
  "nbformat": 4,
  "nbformat_minor": 0,
  "metadata": {
    "colab": {
      "provenance": [],
      "gpuType": "T4",
      "authorship_tag": "ABX9TyO3yJ9/vQTWIuExHoxHLDTg",
      "include_colab_link": true
    },
    "kernelspec": {
      "name": "python3",
      "display_name": "Python 3"
    },
    "language_info": {
      "name": "python"
    },
    "accelerator": "GPU"
  },
  "cells": [
    {
      "cell_type": "markdown",
      "metadata": {
        "id": "view-in-github",
        "colab_type": "text"
      },
      "source": [
        "<a href=\"https://colab.research.google.com/github/JManuelin/JManuelin.github.io/blob/master/Untitled0.ipynb\" target=\"_parent\"><img src=\"https://colab.research.google.com/assets/colab-badge.svg\" alt=\"Open In Colab\"/></a>"
      ]
    },
    {
      "cell_type": "code",
      "execution_count": 32,
      "metadata": {
        "colab": {
          "base_uri": "https://localhost:8080/",
          "height": 0
        },
        "id": "s69urDdQUkOH",
        "outputId": "f042cb00-7f5c-4da4-c2bb-e32c2aa0f24e"
      },
      "outputs": [
        {
          "output_type": "stream",
          "name": "stdout",
          "text": [
            "Overwriting matrix_mul.cu\n"
          ]
        }
      ],
      "source": [
        "# @title Texto de título predeterminado\n",
        "%%writefile matrix_mul.cu\n",
        "#include <stdio.h>\n",
        "#include <stdlib.h>\n",
        "#include <cuda.h>\n",
        "#include <time.h>\n",
        "\n",
        "#define N 1000 // Tamaño de la matriz NxN\n",
        "\n",
        "// Función de multiplicación de matrices en la CPU\n",
        "void matrixMulCPU(float *A, float *B, float *C, int n) {\n",
        "    for (int i = 0; i < n; i++) {\n",
        "        for (int j = 0; j < n; j++) {\n",
        "            float sum = 0;\n",
        "            for (int k = 0; k < n; k++) {\n",
        "                sum += A[i * n + k] * B[k * n + j];\n",
        "            }\n",
        "            C[i * n + j] = sum;\n",
        "        }\n",
        "    }\n",
        "}\n",
        "\n",
        "// Kernel de multiplicación de matrices en la GPU\n",
        "__global__ void matrixMulGPU(float *A, float *B, float *C, int n) {\n",
        "    int row = blockIdx.y * blockDim.y + threadIdx.y;\n",
        "    int col = blockIdx.x * blockDim.x + threadIdx.x;\n",
        "    float sum = 0;\n",
        "\n",
        "    if (row < n && col < n) {\n",
        "        for (int k = 0; k < n; k++) {\n",
        "            sum += A[row * n + k] * B[k * n + col];\n",
        "        }\n",
        "        C[row * n + col] = sum;\n",
        "    }\n",
        "}\n",
        "\n",
        "// Función para inicializar matrices con valores aleatorios\n",
        "void initializeMatrix(float *matrix, int n) {\n",
        "    for (int i = 0; i < n * n; i++) {\n",
        "        matrix[i] = rand() % 100;\n",
        "    }\n",
        "}\n",
        "\n",
        "// Función para verificar que dos matrices sean iguales\n",
        "bool verifyResult(float *A, float *B, int n) {\n",
        "    for (int i = 0; i < n * n; i++) {\n",
        "        if (fabs(A[i] - B[i]) > 1e-5) {\n",
        "            return false;\n",
        "        }\n",
        "    }\n",
        "    return true;\n",
        "}\n",
        "\n",
        "int main() {\n",
        "    int size = N * N * sizeof(float);\n",
        "\n",
        "    // Asignar memoria en el host (CPU)\n",
        "    float *h_A = (float *)malloc(size);\n",
        "    float *h_B = (float *)malloc(size);\n",
        "    float *h_C = (float *)malloc(size);\n",
        "    float *h_C_GPU = (float *)malloc(size);\n",
        "\n",
        "    // Inicializar matrices A y B\n",
        "    initializeMatrix(h_A, N);\n",
        "    initializeMatrix(h_B, N);\n",
        "\n",
        "    // Asignar memoria en el dispositivo (GPU)\n",
        "    float *d_A, *d_B, *d_C;\n",
        "    cudaMalloc((void **)&d_A, size);\n",
        "    cudaMalloc((void **)&d_B, size);\n",
        "    cudaMalloc((void **)&d_C, size);\n",
        "\n",
        "    // Copiar matrices del host al dispositivo\n",
        "    cudaMemcpy(d_A, h_A, size, cudaMemcpyHostToDevice);\n",
        "    cudaMemcpy(d_B, h_B, size, cudaMemcpyHostToDevice);\n",
        "\n",
        "    // Ejecutar la multiplicación de matrices en la CPU\n",
        "    clock_t startCPU = clock();\n",
        "    matrixMulCPU(h_A, h_B, h_C, N);\n",
        "    clock_t endCPU = clock();\n",
        "\n",
        "    // Definir el tamaño de los bloques y la rejilla para la GPU\n",
        "    dim3 threadsPerBlock(16, 16);\n",
        "    dim3 blocksPerGrid((N + threadsPerBlock.x - 1) / threadsPerBlock.x,\n",
        "                       (N + threadsPerBlock.y - 1) / threadsPerBlock.y);\n",
        "\n",
        "    // Ejecutar la multiplicación de matrices en la GPU\n",
        "    clock_t startGPU = clock();\n",
        "    matrixMulGPU<<<blocksPerGrid, threadsPerBlock>>>(d_A, d_B, d_C, N);\n",
        "    cudaDeviceSynchronize();\n",
        "    clock_t endGPU = clock();\n",
        "\n",
        "    // Copiar el resultado de la GPU al host\n",
        "    cudaMemcpy(h_C_GPU, d_C, size, cudaMemcpyDeviceToHost);\n",
        "\n",
        "    // Verificar resultados\n",
        "    bool correct = verifyResult(h_C, h_C_GPU, N);\n",
        "\n",
        "    // Calcular y mostrar el tiempo de ejecución\n",
        "    double cpuTime = ((double)(endCPU - startCPU)) / CLOCKS_PER_SEC;\n",
        "    double gpuTime = ((double)(endGPU - startGPU)) / CLOCKS_PER_SEC;\n",
        "\n",
        "    // Presentación de resultados\n",
        "    printf(\"\\n==================== RESULTADOS ====================\\n\");\n",
        "    printf(\"Tamaño de la matriz: %d x %d\\n\", N, N);\n",
        "    printf(\"Tiempo de ejecución en la CPU: %f segundos.\\n\", cpuTime);\n",
        "    printf(\"Tiempo de ejecución en la GPU: %f segundos.\\n\", gpuTime);\n",
        "    printf(\"La multiplicación de matrices en la GPU es %s.\\n\", correct ? \"correcta\" : \"incorrecta\");\n",
        "    printf(\"====================================================\\n\");\n",
        "\n",
        "    // Liberar memoria\n",
        "    free(h_A);\n",
        "    free(h_B);\n",
        "    free(h_C);\n",
        "    free(h_C_GPU);\n",
        "    cudaFree(d_A);\n",
        "    cudaFree(d_B);\n",
        "    cudaFree(d_C);\n",
        "\n",
        "    return 0;\n",
        "}\n",
        "\n"
      ]
    },
    {
      "cell_type": "code",
      "source": [
        "!nvcc -arch=sm_70 -o hello-gpu matrix_mul.cu -run"
      ],
      "metadata": {
        "colab": {
          "base_uri": "https://localhost:8080/",
          "height": 0
        },
        "id": "c2MQealOUxm8",
        "outputId": "68b441d8-1e33-45c2-929f-75f71612517c"
      },
      "execution_count": 33,
      "outputs": [
        {
          "output_type": "stream",
          "name": "stdout",
          "text": [
            "\n",
            "==================== RESULTADOS ====================\n",
            "Tamaño de la matriz: 1000 x 1000\n",
            "Tiempo de ejecución en la CPU: 4.217490 segundos.\n",
            "Tiempo de ejecución en la GPU: 0.016315 segundos.\n",
            "La multiplicación de matrices en la GPU es correcta.\n",
            "====================================================\n"
          ]
        }
      ]
    }
  ]
}